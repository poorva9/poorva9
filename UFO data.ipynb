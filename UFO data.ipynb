{
 "cells": [
  {
   "cell_type": "code",
   "execution_count": 1,
   "id": "4d88082a",
   "metadata": {},
   "outputs": [
    {
     "name": "stdout",
     "output_type": "stream",
     "text": [
      "Requirement already satisfied: pandas in c:\\users\\poorv\\appdata\\local\\programs\\python\\python39\\lib\\site-packages (1.2.1)\n",
      "Requirement already satisfied: python-dateutil>=2.7.3 in c:\\users\\poorv\\appdata\\local\\programs\\python\\python39\\lib\\site-packages (from pandas) (2.8.1)\n",
      "Requirement already satisfied: pytz>=2017.3 in c:\\users\\poorv\\appdata\\local\\programs\\python\\python39\\lib\\site-packages (from pandas) (2020.5)\n",
      "Requirement already satisfied: numpy>=1.16.5 in c:\\users\\poorv\\appdata\\local\\programs\\python\\python39\\lib\\site-packages (from pandas) (1.19.5)\n",
      "Requirement already satisfied: six>=1.5 in c:\\users\\poorv\\appdata\\local\\programs\\python\\python39\\lib\\site-packages (from python-dateutil>=2.7.3->pandas) (1.15.0)\n"
     ]
    }
   ],
   "source": [
    "!pip install pandas"
   ]
  },
  {
   "cell_type": "code",
   "execution_count": 6,
   "id": "a54d633d",
   "metadata": {},
   "outputs": [],
   "source": [
    "import pandas as pd\n",
    "#import requests as requests"
   ]
  },
  {
   "cell_type": "code",
   "execution_count": 13,
   "id": "054baa1f",
   "metadata": {},
   "outputs": [],
   "source": [
    "url = 'https://www.nuforc.org/webreports/ndxshape.html'\n",
    "url2 = 'https://www.nuforc.org/webreports/ndxevent.html'\n",
    "url3 = 'https://www.nuforc.org/webreports/ndxloc.html'\n",
    "url4 = 'https://www.nuforc.org/webreports/ndxpost.html'\n",
    "import ssl\n",
    "ssl._create_default_https_context = ssl._create_unverified_context\n",
    "shape = pd.read_html(url, header=0)\n",
    "eventdate = pd.read_html(url2, header=0)\n",
    "state = pd.read_html(url3, header=0)\n",
    "dateposted= pd.read_html(url4, header=0)"
   ]
  },
  {
   "cell_type": "code",
   "execution_count": 14,
   "id": "37499c99",
   "metadata": {},
   "outputs": [
    {
     "data": {
      "text/plain": [
       "[        Reports  Count\n",
       " 0    12/19/2021    373\n",
       " 1    11/15/2021    168\n",
       " 2    10/26/2021     52\n",
       " 3    10/19/2021    405\n",
       " 4    09/07/2021    123\n",
       " ..          ...    ...\n",
       " 605  11/01/1998    216\n",
       " 606  09/26/1998    174\n",
       " 607  06/18/1998     43\n",
       " 608  06/02/1998     60\n",
       " 609  03/07/1998    259\n",
       " \n",
       " [610 rows x 2 columns]]"
      ]
     },
     "execution_count": 14,
     "metadata": {},
     "output_type": "execute_result"
    }
   ],
   "source": [
    "#find empty data\n",
    "#find numbers out of a certain range\n",
    "#see if numbers across datasets dont match\n",
    "# analyse event dates: some are in 1400???"
   ]
  },
  {
   "cell_type": "code",
   "execution_count": null,
   "id": "bd2cf850",
   "metadata": {},
   "outputs": [],
   "source": []
  }
 ],
 "metadata": {
  "kernelspec": {
   "display_name": "Python 3 (ipykernel)",
   "language": "python",
   "name": "python3"
  },
  "language_info": {
   "codemirror_mode": {
    "name": "ipython",
    "version": 3
   },
   "file_extension": ".py",
   "mimetype": "text/x-python",
   "name": "python",
   "nbconvert_exporter": "python",
   "pygments_lexer": "ipython3",
   "version": "3.9.1"
  }
 },
 "nbformat": 4,
 "nbformat_minor": 5
}
